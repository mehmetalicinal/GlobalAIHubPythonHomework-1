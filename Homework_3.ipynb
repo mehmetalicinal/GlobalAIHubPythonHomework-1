{
  "nbformat": 4,
  "nbformat_minor": 0,
  "metadata": {
    "colab": {
      "name": "Homework_3.ipynb",
      "provenance": [],
      "collapsed_sections": [],
      "authorship_tag": "ABX9TyOFx4J7MXBnbV4lwHzcRNVq",
      "include_colab_link": true
    },
    "kernelspec": {
      "name": "python3",
      "display_name": "Python 3"
    }
  },
  "cells": [
    {
      "cell_type": "markdown",
      "metadata": {
        "id": "view-in-github",
        "colab_type": "text"
      },
      "source": [
        "<a href=\"https://colab.research.google.com/github/mervanyalcindag/GlobalAIHubPythonHomework/blob/main/Homework_3.ipynb\" target=\"_parent\"><img src=\"https://colab.research.google.com/assets/colab-badge.svg\" alt=\"Open In Colab\"/></a>"
      ]
    },
    {
      "cell_type": "code",
      "metadata": {
        "colab": {
          "base_uri": "https://localhost:8080/"
        },
        "id": "Bg8jdfB_g7_-",
        "outputId": "983791de-02ea-42db-d4ce-3405af11fa8a"
      },
      "source": [
        "print(\"Welcome to the this weird Game :)\")\n",
        "name = input(\"Please enter your name : \")\n",
        "print(\"Welcome \" + name + \"\\nYour mission is find my algorithm of this game.\")\n",
        "\n",
        "ordinal_numbers = {1:'st', 2:'nd', 3:'rd', 4:'th'}\n",
        "right_to_try = len(name)\n",
        "counter = 1\n",
        "password = input(\"If you have a guess, please tell me :\").lower()\n",
        "\n",
        "while True:\n",
        "    if (password == 'q'):\n",
        "        print(f\"Congratulations {name}! :))\\nYesss! You smash it!\")\n",
        "        print(\"You found it on the {}{}. time\".format(counter, ordinal_numbers[4 if counter > 3 else counter]))\n",
        "        break\n",
        "\n",
        "    \n",
        "    password = input(\"Noo, you can do it! There is a tip for you ({}): \".format(name[:counter])).lower()\n",
        "    counter += 1\n",
        "\n",
        "    if (counter >= right_to_try and password != 'q'):\n",
        "        print(f\"Sorry {name}:( The Game is Over!\")\n",
        "        break\n",
        "\n",
        "    "
      ],
      "execution_count": 37,
      "outputs": [
        {
          "output_type": "stream",
          "text": [
            "Welcome to the this weird Game :)\n",
            "Please enter your name : Mer\n",
            "Welcome Mer\n",
            "Your mission is find my algorithm of this game.\n",
            "If you have a guess, please tell me :m\n",
            "Noo, you can do it! There is a tip for you (M): e\n",
            "Noo, you can do it! There is a tip for you (Me): q\n",
            "Congratulations Mer! :))\n",
            "Yesss! You smash it!\n",
            "You found it on the 3rd. time\n"
          ],
          "name": "stdout"
        }
      ]
    }
  ]
}